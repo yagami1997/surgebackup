{
  "nbformat": 4,
  "nbformat_minor": 0,
  "metadata": {
    "colab": {
      "provenance": [],
      "authorship_tag": "ABX9TyP3zlm6oRCaJp9yvuDIrbGY",
      "include_colab_link": true
    },
    "kernelspec": {
      "name": "python3",
      "display_name": "Python 3"
    },
    "language_info": {
      "name": "python"
    }
  },
  "cells": [
    {
      "cell_type": "markdown",
      "metadata": {
        "id": "view-in-github",
        "colab_type": "text"
      },
      "source": [
        "<a href=\"https://colab.research.google.com/github/yagami1997/Surgerulesets/blob/main/AIGC%E7%82%BC%E4%B8%B9.ipynb\" target=\"_parent\"><img src=\"https://colab.research.google.com/assets/colab-badge.svg\" alt=\"Open In Colab\"/></a>"
      ]
    },
    {
      "cell_type": "markdown",
      "source": [
        "**安装代码**\n",
        "\n",
        "```\n",
        "!pip install --upgrade fastapi==0.90.0\n",
        "!git clone https://github.com/AUTOMATIC1111/stable-diffusion-webui\n",
        "!git clone https://github.com/yfszzx/stable-diffusion-webui-images-browser /content/stable-diffusion-webui/extensions/stable-diffusion-webui-images-browser\n",
        "!curl -Lo chilloutmixni.safetensors https://huggingface.co/nolanaatama/chomni/resolve/main/chomni.safetensors\n",
        "!curl -Lo ulzzang-6500.pt https://huggingface.co/nolanaatama/chomni/resolve/main/ulzzang-6500.pt\n",
        "!curl -Lo koreanDollLikeness_v10.safetensors https://huggingface.co/duthanhduoc/chilloutmix-set/resolve/main/koreanDollLikeness_v10.safetensors\n",
        "!mkdir /content/stable-diffusion-webui/models/Lora\n",
        "!mv \"/content/koreanDollLikeness_v10.safetensors\" \"/content/stable-diffusion-webui/models/Lora\"\n",
        "!mv \"/content/chilloutmixni.safetensors\" \"/content/stable-diffusion-webui/models/Stable-diffusion\"\n",
        "!mv \"/content/ulzzang-6500.pt\" \"/content/stable-diffusion-webui/embeddings\"\n",
        "%cd /content/stable-diffusion-webui\n",
        "!git checkout 91c8d0d\n",
        "!COMMANDLINE_ARGS=\"--share --disable-safe-unpickle --no-half-vae --xformers --reinstall-xformers --enable-insecure-extension-access\" REQS_FILE=\"requirements.txt\" python launch.py\n",
        "```\n",
        "\n"
      ],
      "metadata": {
        "id": "G0oGk2YVaP5t"
      }
    },
    {
      "cell_type": "code",
      "execution_count": null,
      "metadata": {
        "id": "BOdwvHkjaJ59"
      },
      "outputs": [],
      "source": []
    },
    {
      "cell_type": "markdown",
      "source": [
        "**正向参数**\n",
        "\n",
        "\n",
        "```\n",
        "<lora:koreanDollLikeness_v10:0.35>,best quality ,masterpiece, illustration, an extremely delicate and beautiful, extremely detailed ,CG ,unity ,8k wallpaper, Amazing, finely detail, masterpiece,best quality,official art,extremely detailed CG unity 8k wallpaper,absurdres, incredibly absurdres, huge filesize , ultra-detailed, highres, extremely detailed,beautiful detailed girl, extremely detailed eyes and face, beautiful detailed eyes,light on face,cinematic lighting,photon mapping, radiosity, physically-based rendering,1girl,sexual position,25 years old,japanese woman,full-body shot,see-through,looking at viewer,woman on the bed,don't wear any clothes,blushing,make up, fishnet,White Skin, Huge Tits, Super big  M cup Breasts,big areolae, black areolae,anal sex,gaping,excessive pubic hair,excessive pubes super puffy nipple,fat thighs, dildo,sitting position,upskirt,black labia majora,genitals close-up,thigh apart,very mature woman,super huge ass,himopan,perky nipples,erect clit,gang bang,pussy juice drip,doggy style,huge tits,gigantic breast,masturbating,moderate pubic hair,\n",
        "\n",
        "```\n",
        "\n"
      ],
      "metadata": {
        "id": "FY6OBUY6ac5G"
      }
    },
    {
      "cell_type": "markdown",
      "source": [
        "**参考正向参数2**\n",
        "\n",
        "```\n",
        " (8k, RAW photo, best quality, masterpiece:1.2), (realistic, photo-realistic:1.37), ultra-detailed,full body,1 girl, solo,beautiful detailed sky,detailed tokyo street,night,beautiful detailed eyes,beautiful detailed lips,professional lighting, photon mapping, radiosity, physically-based rendering,extremely detailed eyes and face, beautiful detailed eyes,light on face,cinematic lighting,photon mapping, radiosity, physically-based rendering,1girl,sexual position,25 years old,japanese woman,full-body shot,see-through,looking at viewer,woman on the bed,don't wear any clothes,blushing,make up, fishnet,White Skin, Huge Tits, Super big  M cup Breasts,big areolae, black areolae,anal sex,gaping,excessive pubic hair,excessive pubes super puffy nipple,fat thighs, dildo,sitting position,upskirt,black labia majora,genitals close-up,thigh apart,very mature woman,super huge ass,himopan,perky nipples,erect clit,gang bang,pussy juice drip,doggy style,huge tits,gigantic breast,masturbating,moderate pubic hair,\n",
        "\n"
      ],
      "metadata": {
        "id": "mmxGxKFXanyB"
      }
    },
    {
      "cell_type": "markdown",
      "source": [
        "**反向参数**\n",
        "\n",
        "\n",
        "\n",
        "```\n",
        "sketches, (worst quality:2), (low quality:2), (normal quality:2), lowres, normal quality, ((monochrome)), ((grayscale)), skin spots, acnes, skin blemishes, bad anatomy,(long hair:1.4),DeepNegative,(fat:1.2),facing away, looking away,tilted head, {Multiple people}, lowres,bad anatomy,bad hands, text, error, missing fingers,extra digit, fewer digits, cropped, worstquality, low quality, normal quality,jpegartifacts,signature, watermark, username,blurry,bad feet,cropped,poorly drawn hands,poorly drawn face,mutation,deformed,worst quality,low quality,normal quality,jpeg artifacts,signature,watermark,extra fingers,fewer digits,extra limbs,extra arms,extra legs,malformed limbs,fused fingers,too many fingers,long neck,cross-eyed,mutated hands,polar lowres,bad body,bad proportions,gross proportions,text,error,missing fingers,missing arms,missing legs,extra digit, extra arms, extra leg, extra foot,\n",
        "```\n",
        "\n"
      ],
      "metadata": {
        "id": "pVVIXWSpbAYo"
      }
    }
  ]
}